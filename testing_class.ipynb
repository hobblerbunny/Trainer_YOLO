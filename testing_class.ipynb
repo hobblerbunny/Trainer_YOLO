{
 "cells": [
  {
   "cell_type": "code",
   "execution_count": null,
   "metadata": {},
   "outputs": [],
   "source": [
    "from dataset_for_training.class_yolo_trainer import YOLOTrainer\n",
    "\n",
    "dataset_constructor = YOLOTrainer\n",
    "dataset_constructor = YOLOTrainer()"
   ]
  },
  {
   "cell_type": "code",
   "execution_count": null,
   "metadata": {},
   "outputs": [],
   "source": [
    "dataset_constructor.image_folder = \"YOLO_pelotas_images/images\"\n",
    "dataset_constructor.annotations_folder = \"YOLO_pelotas_images/labels\"\n",
    "dataset_constructor.yolo_Classes = \"YOLO_pelotas_images/classes.txt\"\n",
    "dataset_constructor.yolo_Notes = \"YOLO_pelotas_images/notes.json\"\n",
    "dataset_constructor.test_percentual_divisor = 20\n",
    "dataset_constructor.slicing_dataset_for_traning()"
   ]
  },
  {
   "cell_type": "code",
   "execution_count": null,
   "metadata": {},
   "outputs": [],
   "source": [
    "dataset_constructor.training_YOLO_model()"
   ]
  },
  {
   "cell_type": "code",
   "execution_count": null,
   "metadata": {},
   "outputs": [],
   "source": [
    "import os\n",
    "\n",
    "file_name = r'datasets/dataset_YOLO/classes.txt'\n",
    "\n",
    "# Check if the file exists\n",
    "if os.path.isfile(file_name):\n",
    "   with open(file_name, 'r') as f:\n",
    "       content = f.read()\n",
    "   print(content)\n",
    "else:\n",
    "   print(f\"File {file_name} does not exist.\")\n"
   ]
  },
  {
   "cell_type": "code",
   "execution_count": 1,
   "metadata": {},
   "outputs": [
    {
     "name": "stdout",
     "output_type": "stream",
     "text": [
      "nvcc: NVIDIA (R) Cuda compiler driver\n",
      "Copyright (c) 2005-2022 NVIDIA Corporation\n",
      "Built on Wed_Sep_21_10:41:10_Pacific_Daylight_Time_2022\n",
      "Cuda compilation tools, release 11.8, V11.8.89\n",
      "Build cuda_11.8.r11.8/compiler.31833905_0\n",
      "\n",
      "\n",
      "Is torch available?  False\n",
      "CUDA version:  None\n",
      "cuDNN version:  None\n"
     ]
    }
   ],
   "source": [
    "import torch\n",
    "import subprocess\n",
    "\n",
    "# Comando de pipeline (exemplo: ls | grep \"arquivo\")\n",
    "list_commands = ['nvcc --version',\"which cuda\"]\n",
    "# Executa o comando e captura a saída\n",
    "for command in list_commands: \n",
    "    print(subprocess.run(command, shell=True, stdout=subprocess.PIPE, text=True).stdout)\n",
    "\n",
    "print(\"Is torch available? \", torch.cuda.is_available())\n",
    "print(\"CUDA version: \", torch.version.cuda)\n",
    "print(\"cuDNN version: \", torch.backends.cudnn.version())"
   ]
  }
 ],
 "metadata": {
  "kernelspec": {
   "display_name": "dataset-for-training-UuJD_CB9-py3.10",
   "language": "python",
   "name": "python3"
  },
  "language_info": {
   "codemirror_mode": {
    "name": "ipython",
    "version": 3
   },
   "file_extension": ".py",
   "mimetype": "text/x-python",
   "name": "python",
   "nbconvert_exporter": "python",
   "pygments_lexer": "ipython3",
   "version": "3.10.4"
  }
 },
 "nbformat": 4,
 "nbformat_minor": 2
}
